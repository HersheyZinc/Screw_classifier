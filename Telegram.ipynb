{
  "nbformat": 4,
  "nbformat_minor": 0,
  "metadata": {
    "colab": {
      "name": "Telegram.ipynb",
      "provenance": []
    },
    "kernelspec": {
      "name": "python3",
      "display_name": "Python 3"
    },
    "language_info": {
      "name": "python"
    }
  },
  "cells": [
    {
      "cell_type": "markdown",
      "source": [
        "# Importing the model"
      ],
      "metadata": {
        "id": "GpydOU6YBXiT"
      }
    },
    {
      "cell_type": "code",
      "source": [
        "!pip install python-telegram-bot --upgrade"
      ],
      "metadata": {
        "colab": {
          "base_uri": "https://localhost:8080/"
        },
        "id": "bYsV6y6quJrQ",
        "outputId": "3787e549-c091-49ff-8e1f-a230a1fed156"
      },
      "execution_count": null,
      "outputs": [
        {
          "output_type": "stream",
          "name": "stdout",
          "text": [
            "Requirement already satisfied: python-telegram-bot in /usr/local/lib/python3.7/dist-packages (13.11)\n",
            "Requirement already satisfied: APScheduler==3.6.3 in /usr/local/lib/python3.7/dist-packages (from python-telegram-bot) (3.6.3)\n",
            "Requirement already satisfied: tornado>=6.1 in /usr/local/lib/python3.7/dist-packages (from python-telegram-bot) (6.1)\n",
            "Requirement already satisfied: certifi in /usr/local/lib/python3.7/dist-packages (from python-telegram-bot) (2021.10.8)\n",
            "Requirement already satisfied: cachetools==4.2.2 in /usr/local/lib/python3.7/dist-packages (from python-telegram-bot) (4.2.2)\n",
            "Requirement already satisfied: pytz>=2018.6 in /usr/local/lib/python3.7/dist-packages (from python-telegram-bot) (2022.1)\n",
            "Requirement already satisfied: setuptools>=0.7 in /usr/local/lib/python3.7/dist-packages (from APScheduler==3.6.3->python-telegram-bot) (57.4.0)\n",
            "Requirement already satisfied: six>=1.4.0 in /usr/local/lib/python3.7/dist-packages (from APScheduler==3.6.3->python-telegram-bot) (1.15.0)\n",
            "Requirement already satisfied: tzlocal>=1.2 in /usr/local/lib/python3.7/dist-packages (from APScheduler==3.6.3->python-telegram-bot) (1.5.1)\n"
          ]
        }
      ]
    },
    {
      "cell_type": "code",
      "source": [
        "from google.colab import drive\n",
        "drive.mount('/content/gdrive')\n",
        "\n",
        "from tensorflow.keras.models import load_model\n",
        "import numpy as np\n",
        "import os\n",
        "import matplotlib.pyplot as plt\n",
        "from skimage.util import img_as_float\n",
        "from PIL import Image\n",
        "\n",
        "IMG_DIR = \"/content/gdrive/MyDrive/Colab Notebooks/DEEP/user_photo.jpg\""
      ],
      "metadata": {
        "colab": {
          "base_uri": "https://localhost:8080/"
        },
        "id": "dkphgHw85Qgv",
        "outputId": "f7e92167-78d8-492a-e1b4-63d1a73ccb75"
      },
      "execution_count": null,
      "outputs": [
        {
          "output_type": "stream",
          "name": "stdout",
          "text": [
            "Drive already mounted at /content/gdrive; to attempt to forcibly remount, call drive.mount(\"/content/gdrive\", force_remount=True).\n"
          ]
        }
      ]
    },
    {
      "cell_type": "markdown",
      "source": [
        "Load the model with trained parameters"
      ],
      "metadata": {
        "id": "s4VwXUOsJQ1l"
      }
    },
    {
      "cell_type": "code",
      "source": [
        "os.chdir(\"/content/gdrive/MyDrive/Colab Notebooks/DEEP\")\n",
        "model = load_model(\"Model_incept\")\n",
        "\n",
        "labels = {0: 'M4_10', 1: 'M4_16', 2: 'M6_10', 3: 'M6_12', 4: 'None'}"
      ],
      "metadata": {
        "id": "JzF-HiiZ6-wg"
      },
      "execution_count": null,
      "outputs": []
    },
    {
      "cell_type": "code",
      "source": [
        "img_size = (256, 256)\n",
        "\n",
        "def predict():\n",
        "  img = Image.open(IMG_DIR)\n",
        "  img = img.resize(img_size)\n",
        "  img = img_as_float(img)\n",
        "  img = np.expand_dims(img, axis=0)\n",
        "  prediction = model.predict(img).argmax(axis=1)[0]\n",
        "  return labels[prediction]"
      ],
      "metadata": {
        "id": "59ktQFpR628Y"
      },
      "execution_count": null,
      "outputs": []
    },
    {
      "cell_type": "markdown",
      "source": [
        "# Creating the Telegram Bot\n"
      ],
      "metadata": {
        "id": "mNseUSR8BdaY"
      }
    },
    {
      "cell_type": "code",
      "source": [
        "from telegram.ext import Updater, CallbackContext, CommandHandler, MessageHandler, Filters\n",
        "from telegram import Update"
      ],
      "metadata": {
        "id": "mX-mgt-jzZaS"
      },
      "execution_count": null,
      "outputs": []
    },
    {
      "cell_type": "code",
      "execution_count": null,
      "metadata": {
        "id": "VUowPF0_RpOJ"
      },
      "outputs": [],
      "source": [
        "# Replace \"TOKEN\" with your private token key provided by telegram bot\n",
        "updater = Updater(token='TOKEN', use_context=True)\n",
        "dispatcher = updater.dispatcher"
      ]
    },
    {
      "cell_type": "code",
      "source": [
        "def start(update: Update, context: CallbackContext):\n",
        "    context.bot.send_message(chat_id=update.effective_chat.id, text=\"Hello! Please send me square images of your screw\")\n",
        "\n",
        "start_handler = CommandHandler('start', start)\n",
        "dispatcher.add_handler(start_handler)"
      ],
      "metadata": {
        "id": "UNoTecHzviYd"
      },
      "execution_count": null,
      "outputs": []
    },
    {
      "cell_type": "code",
      "source": [
        "# Function that is called when a photo is sent\n",
        "# Latest photo is retrieved and sent to the loaded model for prediction\n",
        "# Finally, the returned prediction is sent back to the user\n",
        "\n",
        "def photo(update: Update, context: CallbackContext):\n",
        "    #context.bot.send_message(chat_id=update.effective_chat.id, text=\"Photo recieved!\")\n",
        "    photo_file = update.message.photo[-1].get_file()\n",
        "    photo_file.download(IMG_DIR)\n",
        "    output = \"Unknown\"\n",
        "    try:\n",
        "      output = predict()\n",
        "    except:\n",
        "      output = \"Unknown\"\n",
        "    context.bot.send_message(chat_id=update.effective_chat.id, text=\"Prediction: \" + output)\n",
        "\n",
        "\n",
        "\n",
        "photo_handler = MessageHandler(Filters.photo, photo)\n",
        "dispatcher.add_handler(photo_handler)"
      ],
      "metadata": {
        "id": "ZQSo_mn14z9d"
      },
      "execution_count": null,
      "outputs": []
    },
    {
      "cell_type": "code",
      "source": [
        "updater.start_polling()"
      ],
      "metadata": {
        "colab": {
          "base_uri": "https://localhost:8080/"
        },
        "id": "wmqDV40cv3mE",
        "outputId": "ce878209-6207-4690-b6ac-2def23a24800"
      },
      "execution_count": null,
      "outputs": [
        {
          "output_type": "execute_result",
          "data": {
            "text/plain": [
              "<queue.Queue at 0x7fe42bc4d790>"
            ]
          },
          "metadata": {},
          "execution_count": 9
        }
      ]
    },
    {
      "cell_type": "code",
      "source": [
        "#updater.stop()"
      ],
      "metadata": {
        "id": "Vlmkse9lQgfl"
      },
      "execution_count": null,
      "outputs": []
    }
  ]
}