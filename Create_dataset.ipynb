{
  "nbformat": 4,
  "nbformat_minor": 0,
  "metadata": {
    "colab": {
      "name": "Create_dataset.ipynb",
      "provenance": [],
      "authorship_tag": "ABX9TyMDTK0FwYCPaWhXM0PA2Zjy",
      "include_colab_link": true
    },
    "kernelspec": {
      "name": "python3",
      "display_name": "Python 3"
    },
    "language_info": {
      "name": "python"
    }
  },
  "cells": [
    {
      "cell_type": "markdown",
      "metadata": {
        "id": "view-in-github",
        "colab_type": "text"
      },
      "source": [
        "<a href=\"https://colab.research.google.com/github/HersheyZinc/Screw_classifier/blob/main/Create_dataset.ipynb\" target=\"_parent\"><img src=\"https://colab.research.google.com/assets/colab-badge.svg\" alt=\"Open In Colab\"/></a>"
      ]
    },
    {
      "cell_type": "markdown",
      "source": [
        "## About"
      ],
      "metadata": {
        "id": "ocDHakdkEQx2"
      }
    },
    {
      "cell_type": "markdown",
      "source": [
        "This Notebook is specifically for generating an image dataset from the videos of the screws\n",
        "\n",
        "I used opencv to read each frame of the videos, and extract an image every 10 frames. These images are then randomly distributed to the train and test folders at a 8:2 ratio"
      ],
      "metadata": {
        "id": "B4fItbaCD332"
      }
    },
    {
      "cell_type": "code",
      "execution_count": null,
      "metadata": {
        "id": "osFfXJrbUaZE",
        "colab": {
          "base_uri": "https://localhost:8080/"
        },
        "outputId": "d8816da2-0a04-4678-bc93-24496bda2461"
      },
      "outputs": [
        {
          "output_type": "stream",
          "name": "stdout",
          "text": [
            "Drive already mounted at /content/gdrive; to attempt to forcibly remount, call drive.mount(\"/content/gdrive\", force_remount=True).\n"
          ]
        }
      ],
      "source": [
        "import cv2\n",
        "import os\n",
        "import random\n",
        "import shutil\n",
        "from google.colab import drive\n",
        "drive.mount('/content/gdrive')\n",
        "ROOT_DIR = \"/content/gdrive/MyDrive/Colab Notebooks/DEEP\"\n",
        "\n",
        "#train_dir = os.path.join(ROOT_DIR, \"train\")\n",
        "#test_dir = os.path.join(ROOT_DIR, \"test\")\n",
        "train_test_dir = os.path.join(ROOT_DIR, \"train-test\")\n",
        "raw_data_dir = os.path.join(ROOT_DIR, \"raw_data\")"
      ]
    },
    {
      "cell_type": "markdown",
      "source": [
        "## Clear current directories"
      ],
      "metadata": {
        "id": "Ec7z_Zl3EGhq"
      }
    },
    {
      "cell_type": "code",
      "source": [
        "def clear_directories(path):\n",
        "#clear all files in test/train\n",
        "\n",
        "  for dir in os.listdir(path):\n",
        "    print(\"Folder {} has been deleted\".format(dir))\n",
        "    shutil.rmtree(path+\"/\"+dir)"
      ],
      "metadata": {
        "id": "YKA9rtvzEJgs"
      },
      "execution_count": null,
      "outputs": []
    },
    {
      "cell_type": "code",
      "source": [
        "clear_directories(train_test_dir)"
      ],
      "metadata": {
        "colab": {
          "base_uri": "https://localhost:8080/"
        },
        "id": "pWT__s1eAd71",
        "outputId": "4136fef9-82c4-44ad-bb3a-a0ac0349d4df"
      },
      "execution_count": null,
      "outputs": [
        {
          "output_type": "stream",
          "name": "stdout",
          "text": [
            "Folder M6_12 has been deleted\n",
            "Folder M6_10 has been deleted\n",
            "Folder M4_10 has been deleted\n",
            "Folder M4_16 has been deleted\n"
          ]
        }
      ]
    },
    {
      "cell_type": "markdown",
      "source": [
        "## Extract images"
      ],
      "metadata": {
        "id": "DRs03ye6EMI4"
      }
    },
    {
      "cell_type": "code",
      "source": [
        "def extract_images(path_from, path_to, frequency=10, types=[\"M6_12\", \"M6_10\", \"M4_10\", \"M4_16\"],vidtype='.mp4'):\n",
        "  total=0\n",
        "\n",
        "  # Iterates through types list\n",
        "  for name in types:\n",
        "    path = os.path.join(path_to, name)\n",
        "    os.makedirs(path)\n",
        "    os.chdir(path)\n",
        "    \n",
        "    count = 0\n",
        "\n",
        "    # Find files that start with the same name in the types list\n",
        "    for item in os.listdir(path_from):\n",
        "      \n",
        "      # Finds file of matching videotype and reads all frames\n",
        "      if item.startswith(name) and item.endswith(vidtype):\n",
        "        \n",
        "\n",
        "        vidcap = cv2.VideoCapture(os.path.join(path_from,item))\n",
        "        success,image = vidcap.read()\n",
        "        \n",
        "        loop = 0\n",
        "        success = True\n",
        "\n",
        "        # Extracts frames at set frequency and saves it ha jpeg image\n",
        "        while success:\n",
        "          success,image = vidcap.read()\n",
        "          if not success: break;\n",
        "\n",
        "          if loop == frequency:\n",
        "            cv2.imwrite(\"{}-{}.jpeg\".format(name, count), image)\n",
        "            count += 1\n",
        "            loop = 0\n",
        "\n",
        "          loop+=1\n",
        "\n",
        "        total+=count\n",
        "        print(\"Name: {} Images: {}\".format(item, count))\n",
        "  print(\"Total images extracted: {}\".format(total))"
      ],
      "metadata": {
        "id": "wtVZhKYhCt9b"
      },
      "execution_count": null,
      "outputs": []
    },
    {
      "cell_type": "code",
      "source": [
        "extract_images(raw_data_dir, train_test_dir, 20)"
      ],
      "metadata": {
        "colab": {
          "base_uri": "https://localhost:8080/"
        },
        "id": "BDnd44X6dXUH",
        "outputId": "5bf6e4c5-3041-486f-9c2c-127b9d32b141"
      },
      "execution_count": null,
      "outputs": [
        {
          "output_type": "stream",
          "name": "stdout",
          "text": [
            "Name: M6_12.mp4 Images: 129\n",
            "Name: M6_12 2.mp4 Images: 536\n",
            "Name: M6_12 3.mp4 Images: 573\n",
            "Name: M6_10.mp4 Images: 115\n",
            "Name: M6_10 2.mp4 Images: 478\n",
            "Name: M6_10 3.mp4 Images: 510\n",
            "Name: M4_10.mp4 Images: 87\n",
            "Name: M4_10 2.mp4 Images: 420\n",
            "Name: M4_10 3.mp4 Images: 458\n",
            "Name: M4_16.mp4 Images: 110\n",
            "Name: M4_16 2.mp4 Images: 471\n",
            "Name: M4_16 3.mp4 Images: 510\n",
            "Total images extracted: 4397\n"
          ]
        }
      ]
    }
  ]
}